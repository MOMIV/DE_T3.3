{
 "cells": [
  {
   "cell_type": "code",
   "execution_count": null,
   "id": "58bd62be",
   "metadata": {},
   "outputs": [],
   "source": [
    "pip install requests"
   ]
  },
  {
   "cell_type": "code",
   "execution_count": null,
   "id": "629052b6",
   "metadata": {},
   "outputs": [],
   "source": [
    "pip install psycopg2"
   ]
  },
  {
   "cell_type": "code",
   "execution_count": null,
   "id": "f8dcf6f6",
   "metadata": {},
   "outputs": [],
   "source": [
    "import requests"
   ]
  },
  {
   "cell_type": "code",
   "execution_count": null,
   "id": "10812e7f",
   "metadata": {},
   "outputs": [],
   "source": [
    "import pandas as pd"
   ]
  },
  {
   "cell_type": "code",
   "execution_count": null,
   "id": "4799dfcd",
   "metadata": {},
   "outputs": [],
   "source": [
    "import psycopg2"
   ]
  },
  {
   "cell_type": "markdown",
   "id": "a95fa517",
   "metadata": {},
   "source": [
    "Предварительно изучаем ресурс для получения курсов валют.\n",
    "Получаем ключ доступа и определяем конечную точку (endpoint) для получения требуемой нам информации."
   ]
  },
  {
   "cell_type": "code",
   "execution_count": null,
   "id": "b409bfde",
   "metadata": {},
   "outputs": [],
   "source": [
    "url = 'http://api.exchangerate.host/timeframe'"
   ]
  },
  {
   "cell_type": "code",
   "execution_count": null,
   "id": "297aacb2",
   "metadata": {},
   "outputs": [],
   "source": [
    "params = {\"access_key\": \"510707589c6d083e9d6de8cf0d16a811\", \"start_date\": \"2023-02-01\",\"end_date\":\"2023-02-28\", \"source\":\"BTC\", \"currencies\":\"RUB\", \"format\":\"1\" }"
   ]
  },
  {
   "cell_type": "code",
   "execution_count": null,
   "id": "4212e8b6",
   "metadata": {},
   "outputs": [],
   "source": [
    "response = requests.get(url,params=params)"
   ]
  },
  {
   "cell_type": "code",
   "execution_count": null,
   "id": "acb45819",
   "metadata": {},
   "outputs": [],
   "source": [
    "response"
   ]
  },
  {
   "cell_type": "code",
   "execution_count": null,
   "id": "73409380",
   "metadata": {},
   "outputs": [],
   "source": [
    "response.text"
   ]
  },
  {
   "cell_type": "code",
   "execution_count": null,
   "id": "9cee0e5c",
   "metadata": {},
   "outputs": [],
   "source": [
    "a=response.json()\n",
    "a"
   ]
  },
  {
   "cell_type": "code",
   "execution_count": null,
   "id": "ec2bc9e1",
   "metadata": {},
   "outputs": [],
   "source": [
    "rate_date=list(a['quotes'])\n",
    "rate_date"
   ]
  },
  {
   "cell_type": "code",
   "execution_count": null,
   "id": "5b71521b",
   "metadata": {},
   "outputs": [],
   "source": [
    "rate=pd.DataFrame(a['quotes'].values()).round(2).squeeze().tolist ()\n",
    "rate"
   ]
  },
  {
   "cell_type": "code",
   "execution_count": null,
   "id": "a93067b8",
   "metadata": {},
   "outputs": [],
   "source": [
    "cur_f= [\"BTC\"]*len(rate)\n",
    "cur_s= [\"RUB\"]*len(rate)"
   ]
  },
  {
   "cell_type": "code",
   "execution_count": null,
   "id": "9d841cbf",
   "metadata": {},
   "outputs": [],
   "source": []
  },
  {
   "cell_type": "code",
   "execution_count": null,
   "id": "81ae4edc",
   "metadata": {},
   "outputs": [],
   "source": [
    "data=list(zip(rate_date, cur_f, cur_s, rate))\n",
    "data"
   ]
  },
  {
   "cell_type": "code",
   "execution_count": null,
   "id": "46f0fc6a",
   "metadata": {},
   "outputs": [],
   "source": [
    "conn = psycopg2.connect(dbname=\"database\", user=\"postgres\", password=\"postgres\", port=\"5430\", host=\"localhost\")\n",
    "cursor = conn.cursor()\n",
    " \n",
    "conn.autocommit = True\n",
    "sql = \"CREATE DATABASE btsrate\"\n",
    " \n",
    "cursor.execute(sql)\n",
    "print(\"База данных успешно создана\")\n",
    " \n",
    "cursor.close()\n",
    "conn.close()"
   ]
  },
  {
   "cell_type": "code",
   "execution_count": null,
   "id": "4eb9dd22",
   "metadata": {},
   "outputs": [],
   "source": [
    "conn = psycopg2.connect(dbname=\"btsrate\", user=\"postgres\", password=\"postgres\", port=\"5430\", host=\"localhost\")\n",
    "cursor = conn.cursor()\n",
    " \n",
    "cursor.execute(\"CREATE TABLE monthrate (id SERIAL PRIMARY KEY, rate_date date, currency_f VARCHAR(50), currency_s VARCHAR(50), rate real)\")\n",
    "conn.commit()\n",
    "\n",
    "print(\"Таблица успешно создана\")\n",
    " \n",
    "cursor.close()\n",
    "conn.close()"
   ]
  },
  {
   "cell_type": "code",
   "execution_count": null,
   "id": "bc740afc",
   "metadata": {},
   "outputs": [],
   "source": [
    "conn = psycopg2.connect(dbname=\"btsrate\", user=\"postgres\", password=\"postgres\", port=\"5430\", host=\"localhost\")\n",
    "cursor = conn.cursor()\n",
    " \n",
    "cursor.executemany(\"INSERT INTO monthrate (rate_date, currency_f , currency_s , rate ) VALUES (%s, %s, %s, %s)\", data)\n",
    " \n",
    "conn.commit()  \n",
    "print(\"Данные добавлены\")\n",
    " \n",
    "cursor.close()\n",
    "conn.close()"
   ]
  },
  {
   "cell_type": "code",
   "execution_count": null,
   "id": "a40d42ff",
   "metadata": {},
   "outputs": [],
   "source": [
    "conn = psycopg2.connect(dbname=\"btsrate\", user=\"postgres\", password=\"postgres\", port=\"5430\", host=\"localhost\")\n",
    "cursor = conn.cursor()\n",
    " \n",
    "cursor.execute(\"SELECT max(rate) FROM monthrate\")\n",
    "max_rate=cursor.fetchone()\n",
    "\n",
    "print(max_rate)   \n",
    " \n",
    "cursor.close()\n",
    "conn.close()"
   ]
  },
  {
   "cell_type": "code",
   "execution_count": null,
   "id": "d24ffd21",
   "metadata": {},
   "outputs": [],
   "source": [
    "conn = psycopg2.connect(dbname=\"btsrate\", user=\"postgres\", password=\"postgres\", port=\"5430\", host=\"localhost\")\n",
    "cursor = conn.cursor()\n",
    " \n",
    "cursor.execute(\"SELECT rate_date FROM monthrate where rate = (SELECT max(rate) FROM monthrate)\")\n",
    "max_rate_date=cursor.fetchone()\n",
    "\n",
    "print(max_rate_date)   \n",
    " \n",
    "cursor.close()\n",
    "conn.close()"
   ]
  },
  {
   "cell_type": "code",
   "execution_count": null,
   "id": "10fd113d",
   "metadata": {
    "scrolled": false
   },
   "outputs": [],
   "source": [
    "conn = psycopg2.connect(dbname=\"btsrate\", user=\"postgres\", password=\"postgres\", port=\"5430\", host=\"localhost\")\n",
    "cursor = conn.cursor()\n",
    " \n",
    "cursor.execute(\"SELECT min(rate) FROM monthrate\")\n",
    "min_rate=cursor.fetchone()\n",
    "\n",
    "print(min_rate)   \n",
    " \n",
    "cursor.close()\n",
    "conn.close()"
   ]
  },
  {
   "cell_type": "code",
   "execution_count": null,
   "id": "3ff7d01f",
   "metadata": {},
   "outputs": [],
   "source": [
    "conn = psycopg2.connect(dbname=\"btsrate\", user=\"postgres\", password=\"postgres\", port=\"5430\", host=\"localhost\")\n",
    "cursor = conn.cursor()\n",
    " \n",
    "cursor.execute(\"SELECT rate_date FROM monthrate where rate = (SELECT min(rate) FROM monthrate)\")\n",
    "min_rate_date=cursor.fetchone()\n",
    "\n",
    "print(min_rate_date)   \n",
    " \n",
    "cursor.close()\n",
    "conn.close()"
   ]
  },
  {
   "cell_type": "code",
   "execution_count": null,
   "id": "232b9598",
   "metadata": {
    "scrolled": false
   },
   "outputs": [],
   "source": [
    "conn = psycopg2.connect(dbname=\"btsrate\", user=\"postgres\", password=\"postgres\", port=\"5430\", host=\"localhost\")\n",
    "cursor = conn.cursor()\n",
    " \n",
    "cursor.execute(\"SELECT avg(rate) FROM monthrate\")\n",
    "avg_rate=cursor.fetchone()\n",
    "\n",
    "print(avg_rate)   \n",
    " \n",
    "cursor.close()\n",
    "conn.close()"
   ]
  },
  {
   "cell_type": "code",
   "execution_count": null,
   "id": "8fa1b671",
   "metadata": {
    "scrolled": false
   },
   "outputs": [],
   "source": [
    "conn = psycopg2.connect(dbname=\"btsrate\", user=\"postgres\", password=\"postgres\", port=\"5430\", host=\"localhost\")\n",
    "cursor = conn.cursor()\n",
    " \n",
    "cursor.execute(\"SELECT rate FROM monthrate where rate_date=('2023-02-28')\")\n",
    "last_day_rate=cursor.fetchone()\n",
    "\n",
    "print(last_day_rate)   \n",
    " \n",
    "cursor.close()\n",
    "conn.close()"
   ]
  },
  {
   "cell_type": "code",
   "execution_count": null,
   "id": "17c9e965",
   "metadata": {},
   "outputs": [],
   "source": [
    "month=\"2023-02-01\"\n",
    "cf=\"BTC\"\n",
    "cs=\"RUB\""
   ]
  },
  {
   "cell_type": "code",
   "execution_count": null,
   "id": "d086c17b",
   "metadata": {},
   "outputs": [],
   "source": [
    "data_mart=list(zip((month,), (cf,), (cs,), max_rate, max_rate_date,min_rate,min_rate_date, avg_rate, last_day_rate))\n",
    "data_mart"
   ]
  },
  {
   "cell_type": "code",
   "execution_count": null,
   "id": "418cebee",
   "metadata": {},
   "outputs": [],
   "source": [
    "conn = psycopg2.connect(dbname=\"btsrate\", user=\"postgres\", password=\"postgres\", port=\"5430\", host=\"localhost\")\n",
    "cursor = conn.cursor()\n",
    " \n",
    "cursor.execute(\"CREATE TABLE mart (month date, currency_f VARCHAR(50), currency_s VARCHAR(50), max_rate real, max_rate_date date,min_rate real ,min_rate_date date, avg_rate real, last_day_rate real)\")\n",
    "conn.commit()\n",
    "\n",
    "print(\"Таблица успешно создана\")\n",
    " \n",
    "cursor.close()\n",
    "conn.close()"
   ]
  },
  {
   "cell_type": "code",
   "execution_count": null,
   "id": "42ccad9e",
   "metadata": {},
   "outputs": [],
   "source": [
    "conn = psycopg2.connect(dbname=\"btsrate\", user=\"postgres\", password=\"postgres\", port=\"5430\", host=\"localhost\")\n",
    "cursor = conn.cursor()\n",
    " \n",
    "cursor.executemany(\"INSERT INTO mart (month , currency_f, currency_s, max_rate, max_rate_date ,min_rate  ,min_rate_date , avg_rate, last_day_rate) VALUES (%s, %s, %s, %s, %s, %s, %s, %s, %s)\", data_mart)\n",
    " \n",
    "conn.commit()  \n",
    "print(\"Данные добавлены\")\n",
    " \n",
    "cursor.close()\n",
    "conn.close()"
   ]
  },
  {
   "cell_type": "code",
   "execution_count": null,
   "id": "5f5e818a",
   "metadata": {},
   "outputs": [],
   "source": []
  },
  {
   "cell_type": "code",
   "execution_count": null,
   "id": "d948862a",
   "metadata": {},
   "outputs": [],
   "source": []
  },
  {
   "cell_type": "code",
   "execution_count": null,
   "id": "f0e39f59",
   "metadata": {},
   "outputs": [],
   "source": []
  },
  {
   "cell_type": "code",
   "execution_count": null,
   "id": "fa4d1c24",
   "metadata": {},
   "outputs": [],
   "source": []
  },
  {
   "cell_type": "code",
   "execution_count": null,
   "id": "66281125",
   "metadata": {},
   "outputs": [],
   "source": []
  },
  {
   "cell_type": "code",
   "execution_count": null,
   "id": "84316b7d",
   "metadata": {},
   "outputs": [],
   "source": []
  }
 ],
 "metadata": {
  "kernelspec": {
   "display_name": "Python 3 (ipykernel)",
   "language": "python",
   "name": "python3"
  },
  "language_info": {
   "codemirror_mode": {
    "name": "ipython",
    "version": 3
   },
   "file_extension": ".py",
   "mimetype": "text/x-python",
   "name": "python",
   "nbconvert_exporter": "python",
   "pygments_lexer": "ipython3",
   "version": "3.11.5"
  }
 },
 "nbformat": 4,
 "nbformat_minor": 5
}
