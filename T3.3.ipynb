{
 "cells": [
  {
   "cell_type": "code",
   "execution_count": null,
   "id": "58bd62be",
   "metadata": {},
   "outputs": [],
   "source": [
    "pip install requests"
   ]
  },
  {
   "cell_type": "code",
   "execution_count": 1,
   "id": "f8dcf6f6",
   "metadata": {},
   "outputs": [],
   "source": [
    "import requests"
   ]
  },
  {
   "cell_type": "markdown",
   "id": "a95fa517",
   "metadata": {},
   "source": [
    "Предварительно изучаем ресурс для получения курсов валют.\n",
    "Получаем ключ доступа и определяем конечную точку (endpoint) для получения требуемой нам информации."
   ]
  },
  {
   "cell_type": "code",
   "execution_count": 45,
   "id": "b409bfde",
   "metadata": {},
   "outputs": [],
   "source": [
    "url = 'http://api.exchangerate.host/timeframe'"
   ]
  },
  {
   "cell_type": "code",
   "execution_count": 46,
   "id": "297aacb2",
   "metadata": {},
   "outputs": [],
   "source": [
    "params = {\"access_key\": \"510707589c6d083e9d6de8cf0d16a811\", \"start_date\": \"2023-02-01\",\"end_date\":\"2023-02-28\", \"source\":\"BTC\", \"currencies\":\"RUB\", \"format\":\"1\" }"
   ]
  },
  {
   "cell_type": "code",
   "execution_count": 47,
   "id": "4212e8b6",
   "metadata": {},
   "outputs": [],
   "source": [
    "response = requests.get(url,params=params)"
   ]
  },
  {
   "cell_type": "code",
   "execution_count": 48,
   "id": "acb45819",
   "metadata": {},
   "outputs": [
    {
     "data": {
      "text/plain": [
       "<Response [200]>"
      ]
     },
     "execution_count": 48,
     "metadata": {},
     "output_type": "execute_result"
    }
   ],
   "source": [
    "response"
   ]
  },
  {
   "cell_type": "code",
   "execution_count": 49,
   "id": "73409380",
   "metadata": {},
   "outputs": [
    {
     "data": {
      "text/plain": [
       "'{\\n  \"success\":true,\\n  \"terms\":\"https:\\\\/\\\\/currencylayer.com\\\\/terms\",\\n  \"privacy\":\"https:\\\\/\\\\/currencylayer.com\\\\/privacy\",\\n  \"timeframe\":true,\\n  \"start_date\":\"2023-02-01\",\\n  \"end_date\":\"2023-02-28\",\\n  \"source\":\"BTC\",\\n  \"quotes\":{\\n    \"2023-02-01\":{\\n      \"BTCRUB\":1658026.343001\\n    },\\n    \"2023-02-02\":{\\n      \"BTCRUB\":1760679.956241\\n    },\\n    \"2023-02-03\":{\\n      \"BTCRUB\":1656164.274841\\n    },\\n    \"2023-02-04\":{\\n      \"BTCRUB\":1648216.503495\\n    },\\n    \"2023-02-05\":{\\n      \"BTCRUB\":1620209.899247\\n    },\\n    \"2023-02-06\":{\\n      \"BTCRUB\":1626899.655357\\n    },\\n    \"2023-02-07\":{\\n      \"BTCRUB\":1677071.176079\\n    },\\n    \"2023-02-08\":{\\n      \"BTCRUB\":1680205.269183\\n    },\\n    \"2023-02-09\":{\\n      \"BTCRUB\":1591384.882937\\n    },\\n    \"2023-02-10\":{\\n      \"BTCRUB\":1597628.895859\\n    },\\n    \"2023-02-11\":{\\n      \"BTCRUB\":1598469.883704\\n    },\\n    \"2023-02-12\":{\\n      \"BTCRUB\":1593629.150811\\n    },\\n    \"2023-02-13\":{\\n      \"BTCRUB\":1614442.46226\\n    },\\n    \"2023-02-14\":{\\n      \"BTCRUB\":1634188.440657\\n    },\\n    \"2023-02-15\":{\\n      \"BTCRUB\":1799800.219691\\n    },\\n    \"2023-02-16\":{\\n      \"BTCRUB\":1761120.49994\\n    },\\n    \"2023-02-17\":{\\n      \"BTCRUB\":1818393.008605\\n    },\\n    \"2023-02-18\":{\\n      \"BTCRUB\":1823598.458963\\n    },\\n    \"2023-02-19\":{\\n      \"BTCRUB\":1796664.749986\\n    },\\n    \"2023-02-20\":{\\n      \"BTCRUB\":1875135.745564\\n    },\\n    \"2023-02-21\":{\\n      \"BTCRUB\":1824512.079514\\n    },\\n    \"2023-02-22\":{\\n      \"BTCRUB\":1811795.661491\\n    },\\n    \"2023-02-23\":{\\n      \"BTCRUB\":1804461.379806\\n    },\\n    \"2023-02-24\":{\\n      \"BTCRUB\":1762562.107872\\n    },\\n    \"2023-02-25\":{\\n      \"BTCRUB\":1762501.333849\\n    },\\n    \"2023-02-26\":{\\n      \"BTCRUB\":1791012.703828\\n    },\\n    \"2023-02-27\":{\\n      \"BTCRUB\":1753999.005661\\n    },\\n    \"2023-02-28\":{\\n      \"BTCRUB\":1735671.432452\\n    }\\n  }\\n}'"
      ]
     },
     "execution_count": 49,
     "metadata": {},
     "output_type": "execute_result"
    }
   ],
   "source": [
    "response.text"
   ]
  },
  {
   "cell_type": "code",
   "execution_count": 50,
   "id": "9cee0e5c",
   "metadata": {},
   "outputs": [
    {
     "data": {
      "text/plain": [
       "{'success': True,\n",
       " 'terms': 'https://currencylayer.com/terms',\n",
       " 'privacy': 'https://currencylayer.com/privacy',\n",
       " 'timeframe': True,\n",
       " 'start_date': '2023-02-01',\n",
       " 'end_date': '2023-02-28',\n",
       " 'source': 'BTC',\n",
       " 'quotes': {'2023-02-01': {'BTCRUB': 1658026.343001},\n",
       "  '2023-02-02': {'BTCRUB': 1760679.956241},\n",
       "  '2023-02-03': {'BTCRUB': 1656164.274841},\n",
       "  '2023-02-04': {'BTCRUB': 1648216.503495},\n",
       "  '2023-02-05': {'BTCRUB': 1620209.899247},\n",
       "  '2023-02-06': {'BTCRUB': 1626899.655357},\n",
       "  '2023-02-07': {'BTCRUB': 1677071.176079},\n",
       "  '2023-02-08': {'BTCRUB': 1680205.269183},\n",
       "  '2023-02-09': {'BTCRUB': 1591384.882937},\n",
       "  '2023-02-10': {'BTCRUB': 1597628.895859},\n",
       "  '2023-02-11': {'BTCRUB': 1598469.883704},\n",
       "  '2023-02-12': {'BTCRUB': 1593629.150811},\n",
       "  '2023-02-13': {'BTCRUB': 1614442.46226},\n",
       "  '2023-02-14': {'BTCRUB': 1634188.440657},\n",
       "  '2023-02-15': {'BTCRUB': 1799800.219691},\n",
       "  '2023-02-16': {'BTCRUB': 1761120.49994},\n",
       "  '2023-02-17': {'BTCRUB': 1818393.008605},\n",
       "  '2023-02-18': {'BTCRUB': 1823598.458963},\n",
       "  '2023-02-19': {'BTCRUB': 1796664.749986},\n",
       "  '2023-02-20': {'BTCRUB': 1875135.745564},\n",
       "  '2023-02-21': {'BTCRUB': 1824512.079514},\n",
       "  '2023-02-22': {'BTCRUB': 1811795.661491},\n",
       "  '2023-02-23': {'BTCRUB': 1804461.379806},\n",
       "  '2023-02-24': {'BTCRUB': 1762562.107872},\n",
       "  '2023-02-25': {'BTCRUB': 1762501.333849},\n",
       "  '2023-02-26': {'BTCRUB': 1791012.703828},\n",
       "  '2023-02-27': {'BTCRUB': 1753999.005661},\n",
       "  '2023-02-28': {'BTCRUB': 1735671.432452}}}"
      ]
     },
     "execution_count": 50,
     "metadata": {},
     "output_type": "execute_result"
    }
   ],
   "source": [
    "response.json()"
   ]
  },
  {
   "cell_type": "code",
   "execution_count": null,
   "id": "39555c30",
   "metadata": {},
   "outputs": [],
   "source": []
  },
  {
   "cell_type": "code",
   "execution_count": null,
   "id": "ec2bc9e1",
   "metadata": {},
   "outputs": [],
   "source": []
  },
  {
   "cell_type": "code",
   "execution_count": null,
   "id": "d684bbbc",
   "metadata": {},
   "outputs": [],
   "source": []
  },
  {
   "cell_type": "code",
   "execution_count": null,
   "id": "06bdc6a7",
   "metadata": {},
   "outputs": [],
   "source": []
  },
  {
   "cell_type": "code",
   "execution_count": null,
   "id": "5b71521b",
   "metadata": {},
   "outputs": [],
   "source": []
  },
  {
   "cell_type": "code",
   "execution_count": null,
   "id": "a93067b8",
   "metadata": {},
   "outputs": [],
   "source": []
  },
  {
   "cell_type": "code",
   "execution_count": null,
   "id": "9d841cbf",
   "metadata": {},
   "outputs": [],
   "source": []
  },
  {
   "cell_type": "code",
   "execution_count": null,
   "id": "81ae4edc",
   "metadata": {},
   "outputs": [],
   "source": []
  },
  {
   "cell_type": "code",
   "execution_count": null,
   "id": "4eb9dd22",
   "metadata": {},
   "outputs": [],
   "source": []
  },
  {
   "cell_type": "code",
   "execution_count": null,
   "id": "bc740afc",
   "metadata": {},
   "outputs": [],
   "source": []
  },
  {
   "cell_type": "code",
   "execution_count": null,
   "id": "84316b7d",
   "metadata": {},
   "outputs": [],
   "source": []
  }
 ],
 "metadata": {
  "kernelspec": {
   "display_name": "Python 3 (ipykernel)",
   "language": "python",
   "name": "python3"
  },
  "language_info": {
   "codemirror_mode": {
    "name": "ipython",
    "version": 3
   },
   "file_extension": ".py",
   "mimetype": "text/x-python",
   "name": "python",
   "nbconvert_exporter": "python",
   "pygments_lexer": "ipython3",
   "version": "3.9.7"
  }
 },
 "nbformat": 4,
 "nbformat_minor": 5
}
