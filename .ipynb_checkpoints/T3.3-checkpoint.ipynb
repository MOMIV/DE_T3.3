{
 "cells": [
  {
   "cell_type": "code",
   "execution_count": 1,
   "id": "58bd62be",
   "metadata": {},
   "outputs": [
    {
     "name": "stdout",
     "output_type": "stream",
     "text": [
      "Requirement already satisfied: requests in c:\\users\\bolsh\\anaconda3\\lib\\site-packages (2.31.0)\n",
      "Requirement already satisfied: charset-normalizer<4,>=2 in c:\\users\\bolsh\\anaconda3\\lib\\site-packages (from requests) (2.0.4)\n",
      "Requirement already satisfied: idna<4,>=2.5 in c:\\users\\bolsh\\anaconda3\\lib\\site-packages (from requests) (3.4)\n",
      "Requirement already satisfied: urllib3<3,>=1.21.1 in c:\\users\\bolsh\\anaconda3\\lib\\site-packages (from requests) (1.26.16)\n",
      "Requirement already satisfied: certifi>=2017.4.17 in c:\\users\\bolsh\\anaconda3\\lib\\site-packages (from requests) (2023.7.22)\n",
      "Note: you may need to restart the kernel to use updated packages.\n"
     ]
    }
   ],
   "source": [
    "pip install requests"
   ]
  },
  {
   "cell_type": "code",
   "execution_count": 45,
   "id": "bcdc907d",
   "metadata": {},
   "outputs": [
    {
     "name": "stdout",
     "output_type": "stream",
     "text": [
      "Collecting psycopg2\n",
      "  Obtaining dependency information for psycopg2 from https://files.pythonhosted.org/packages/37/2c/5133dd3183a3bd82371569f0dd783e6927672de7e671b278ce248810b7f7/psycopg2-2.9.9-cp311-cp311-win_amd64.whl.metadata\n",
      "  Downloading psycopg2-2.9.9-cp311-cp311-win_amd64.whl.metadata (4.5 kB)\n",
      "Downloading psycopg2-2.9.9-cp311-cp311-win_amd64.whl (1.2 MB)\n",
      "   ---------------------------------------- 0.0/1.2 MB ? eta -:--:--\n",
      "   ---------------------------------------- 0.0/1.2 MB ? eta -:--:--\n",
      "   ---------------------------------------- 0.0/1.2 MB ? eta -:--:--\n",
      "   - -------------------------------------- 0.0/1.2 MB 262.6 kB/s eta 0:00:05\n",
      "   -- ------------------------------------- 0.1/1.2 MB 435.7 kB/s eta 0:00:03\n",
      "   ------- -------------------------------- 0.2/1.2 MB 1.0 MB/s eta 0:00:01\n",
      "   ------------ --------------------------- 0.4/1.2 MB 1.5 MB/s eta 0:00:01\n",
      "   ------------------ --------------------- 0.5/1.2 MB 1.9 MB/s eta 0:00:01\n",
      "   ----------------------------------- ---- 1.0/1.2 MB 3.1 MB/s eta 0:00:01\n",
      "   ---------------------------------------- 1.2/1.2 MB 3.2 MB/s eta 0:00:00\n",
      "Installing collected packages: psycopg2\n",
      "Successfully installed psycopg2-2.9.9\n",
      "Note: you may need to restart the kernel to use updated packages.\n"
     ]
    }
   ],
   "source": [
    "pip install psycopg2"
   ]
  },
  {
   "cell_type": "code",
   "execution_count": 2,
   "id": "f8dcf6f6",
   "metadata": {},
   "outputs": [],
   "source": [
    "import requests"
   ]
  },
  {
   "cell_type": "code",
   "execution_count": 3,
   "id": "b5f0979f",
   "metadata": {},
   "outputs": [],
   "source": [
    "import pandas as pd"
   ]
  },
  {
   "cell_type": "code",
   "execution_count": 46,
   "id": "25ebeb04",
   "metadata": {},
   "outputs": [],
   "source": [
    "import psycopg2"
   ]
  },
  {
   "cell_type": "code",
   "execution_count": null,
   "id": "67111c13",
   "metadata": {},
   "outputs": [],
   "source": []
  },
  {
   "cell_type": "code",
   "execution_count": null,
   "id": "bb55a63e",
   "metadata": {},
   "outputs": [],
   "source": []
  },
  {
   "cell_type": "markdown",
   "id": "a95fa517",
   "metadata": {},
   "source": [
    "Предварительно изучаем ресурс для получения курсов валют.\n",
    "Получаем ключ доступа и определяем конечную точку (endpoint) для получения требуемой нам информации."
   ]
  },
  {
   "cell_type": "code",
   "execution_count": 4,
   "id": "b409bfde",
   "metadata": {},
   "outputs": [],
   "source": [
    "url = 'http://api.exchangerate.host/timeframe'"
   ]
  },
  {
   "cell_type": "code",
   "execution_count": 5,
   "id": "297aacb2",
   "metadata": {},
   "outputs": [],
   "source": [
    "params = {\"access_key\": \"510707589c6d083e9d6de8cf0d16a811\", \"start_date\": \"2023-02-01\",\"end_date\":\"2023-02-28\", \"source\":\"BTC\", \"currencies\":\"RUB\", \"format\":\"1\" }"
   ]
  },
  {
   "cell_type": "code",
   "execution_count": 6,
   "id": "4212e8b6",
   "metadata": {},
   "outputs": [],
   "source": [
    "response = requests.get(url,params=params)"
   ]
  },
  {
   "cell_type": "code",
   "execution_count": 7,
   "id": "acb45819",
   "metadata": {},
   "outputs": [
    {
     "data": {
      "text/plain": [
       "<Response [200]>"
      ]
     },
     "execution_count": 7,
     "metadata": {},
     "output_type": "execute_result"
    }
   ],
   "source": [
    "response"
   ]
  },
  {
   "cell_type": "code",
   "execution_count": 8,
   "id": "73409380",
   "metadata": {},
   "outputs": [
    {
     "data": {
      "text/plain": [
       "'{\\n  \"success\":true,\\n  \"terms\":\"https:\\\\/\\\\/currencylayer.com\\\\/terms\",\\n  \"privacy\":\"https:\\\\/\\\\/currencylayer.com\\\\/privacy\",\\n  \"timeframe\":true,\\n  \"start_date\":\"2023-02-01\",\\n  \"end_date\":\"2023-02-28\",\\n  \"source\":\"BTC\",\\n  \"quotes\":{\\n    \"2023-02-01\":{\\n      \"BTCRUB\":1658026.343001\\n    },\\n    \"2023-02-02\":{\\n      \"BTCRUB\":1760679.956241\\n    },\\n    \"2023-02-03\":{\\n      \"BTCRUB\":1656164.274841\\n    },\\n    \"2023-02-04\":{\\n      \"BTCRUB\":1648216.503495\\n    },\\n    \"2023-02-05\":{\\n      \"BTCRUB\":1620209.899247\\n    },\\n    \"2023-02-06\":{\\n      \"BTCRUB\":1626899.655357\\n    },\\n    \"2023-02-07\":{\\n      \"BTCRUB\":1677071.176079\\n    },\\n    \"2023-02-08\":{\\n      \"BTCRUB\":1680205.269183\\n    },\\n    \"2023-02-09\":{\\n      \"BTCRUB\":1591384.882937\\n    },\\n    \"2023-02-10\":{\\n      \"BTCRUB\":1597628.895859\\n    },\\n    \"2023-02-11\":{\\n      \"BTCRUB\":1598469.883704\\n    },\\n    \"2023-02-12\":{\\n      \"BTCRUB\":1593629.150811\\n    },\\n    \"2023-02-13\":{\\n      \"BTCRUB\":1614442.46226\\n    },\\n    \"2023-02-14\":{\\n      \"BTCRUB\":1634188.440657\\n    },\\n    \"2023-02-15\":{\\n      \"BTCRUB\":1799800.219691\\n    },\\n    \"2023-02-16\":{\\n      \"BTCRUB\":1761120.49994\\n    },\\n    \"2023-02-17\":{\\n      \"BTCRUB\":1818393.008605\\n    },\\n    \"2023-02-18\":{\\n      \"BTCRUB\":1823598.458963\\n    },\\n    \"2023-02-19\":{\\n      \"BTCRUB\":1796664.749986\\n    },\\n    \"2023-02-20\":{\\n      \"BTCRUB\":1875135.745564\\n    },\\n    \"2023-02-21\":{\\n      \"BTCRUB\":1824512.079514\\n    },\\n    \"2023-02-22\":{\\n      \"BTCRUB\":1811795.661491\\n    },\\n    \"2023-02-23\":{\\n      \"BTCRUB\":1804461.379806\\n    },\\n    \"2023-02-24\":{\\n      \"BTCRUB\":1762562.107872\\n    },\\n    \"2023-02-25\":{\\n      \"BTCRUB\":1762501.333849\\n    },\\n    \"2023-02-26\":{\\n      \"BTCRUB\":1791012.703828\\n    },\\n    \"2023-02-27\":{\\n      \"BTCRUB\":1753999.005661\\n    },\\n    \"2023-02-28\":{\\n      \"BTCRUB\":1735671.432452\\n    }\\n  }\\n}'"
      ]
     },
     "execution_count": 8,
     "metadata": {},
     "output_type": "execute_result"
    }
   ],
   "source": [
    "response.text"
   ]
  },
  {
   "cell_type": "code",
   "execution_count": 38,
   "id": "9cee0e5c",
   "metadata": {},
   "outputs": [
    {
     "data": {
      "text/plain": [
       "{'success': True,\n",
       " 'terms': 'https://currencylayer.com/terms',\n",
       " 'privacy': 'https://currencylayer.com/privacy',\n",
       " 'timeframe': True,\n",
       " 'start_date': '2023-02-01',\n",
       " 'end_date': '2023-02-28',\n",
       " 'source': 'BTC',\n",
       " 'quotes': {'2023-02-01': {'BTCRUB': 1658026.343001},\n",
       "  '2023-02-02': {'BTCRUB': 1760679.956241},\n",
       "  '2023-02-03': {'BTCRUB': 1656164.274841},\n",
       "  '2023-02-04': {'BTCRUB': 1648216.503495},\n",
       "  '2023-02-05': {'BTCRUB': 1620209.899247},\n",
       "  '2023-02-06': {'BTCRUB': 1626899.655357},\n",
       "  '2023-02-07': {'BTCRUB': 1677071.176079},\n",
       "  '2023-02-08': {'BTCRUB': 1680205.269183},\n",
       "  '2023-02-09': {'BTCRUB': 1591384.882937},\n",
       "  '2023-02-10': {'BTCRUB': 1597628.895859},\n",
       "  '2023-02-11': {'BTCRUB': 1598469.883704},\n",
       "  '2023-02-12': {'BTCRUB': 1593629.150811},\n",
       "  '2023-02-13': {'BTCRUB': 1614442.46226},\n",
       "  '2023-02-14': {'BTCRUB': 1634188.440657},\n",
       "  '2023-02-15': {'BTCRUB': 1799800.219691},\n",
       "  '2023-02-16': {'BTCRUB': 1761120.49994},\n",
       "  '2023-02-17': {'BTCRUB': 1818393.008605},\n",
       "  '2023-02-18': {'BTCRUB': 1823598.458963},\n",
       "  '2023-02-19': {'BTCRUB': 1796664.749986},\n",
       "  '2023-02-20': {'BTCRUB': 1875135.745564},\n",
       "  '2023-02-21': {'BTCRUB': 1824512.079514},\n",
       "  '2023-02-22': {'BTCRUB': 1811795.661491},\n",
       "  '2023-02-23': {'BTCRUB': 1804461.379806},\n",
       "  '2023-02-24': {'BTCRUB': 1762562.107872},\n",
       "  '2023-02-25': {'BTCRUB': 1762501.333849},\n",
       "  '2023-02-26': {'BTCRUB': 1791012.703828},\n",
       "  '2023-02-27': {'BTCRUB': 1753999.005661},\n",
       "  '2023-02-28': {'BTCRUB': 1735671.432452}}}"
      ]
     },
     "execution_count": 38,
     "metadata": {},
     "output_type": "execute_result"
    }
   ],
   "source": [
    "a=response.json()\n",
    "a"
   ]
  },
  {
   "cell_type": "code",
   "execution_count": 39,
   "id": "ec2bc9e1",
   "metadata": {},
   "outputs": [
    {
     "data": {
      "text/plain": [
       "['2023-02-01',\n",
       " '2023-02-02',\n",
       " '2023-02-03',\n",
       " '2023-02-04',\n",
       " '2023-02-05',\n",
       " '2023-02-06',\n",
       " '2023-02-07',\n",
       " '2023-02-08',\n",
       " '2023-02-09',\n",
       " '2023-02-10',\n",
       " '2023-02-11',\n",
       " '2023-02-12',\n",
       " '2023-02-13',\n",
       " '2023-02-14',\n",
       " '2023-02-15',\n",
       " '2023-02-16',\n",
       " '2023-02-17',\n",
       " '2023-02-18',\n",
       " '2023-02-19',\n",
       " '2023-02-20',\n",
       " '2023-02-21',\n",
       " '2023-02-22',\n",
       " '2023-02-23',\n",
       " '2023-02-24',\n",
       " '2023-02-25',\n",
       " '2023-02-26',\n",
       " '2023-02-27',\n",
       " '2023-02-28']"
      ]
     },
     "execution_count": 39,
     "metadata": {},
     "output_type": "execute_result"
    }
   ],
   "source": [
    "rate_date=list(a['quotes'])\n",
    "rate_date"
   ]
  },
  {
   "cell_type": "code",
   "execution_count": 40,
   "id": "5b71521b",
   "metadata": {},
   "outputs": [
    {
     "data": {
      "text/plain": [
       "[1658026.34,\n",
       " 1760679.96,\n",
       " 1656164.27,\n",
       " 1648216.5,\n",
       " 1620209.9,\n",
       " 1626899.66,\n",
       " 1677071.18,\n",
       " 1680205.27,\n",
       " 1591384.88,\n",
       " 1597628.9,\n",
       " 1598469.88,\n",
       " 1593629.15,\n",
       " 1614442.46,\n",
       " 1634188.44,\n",
       " 1799800.22,\n",
       " 1761120.5,\n",
       " 1818393.01,\n",
       " 1823598.46,\n",
       " 1796664.75,\n",
       " 1875135.75,\n",
       " 1824512.08,\n",
       " 1811795.66,\n",
       " 1804461.38,\n",
       " 1762562.11,\n",
       " 1762501.33,\n",
       " 1791012.7,\n",
       " 1753999.01,\n",
       " 1735671.43]"
      ]
     },
     "execution_count": 40,
     "metadata": {},
     "output_type": "execute_result"
    }
   ],
   "source": [
    "rate=pd.DataFrame(a['quotes'].values()).round(2).squeeze().tolist ()\n",
    "rate"
   ]
  },
  {
   "cell_type": "code",
   "execution_count": 41,
   "id": "a93067b8",
   "metadata": {},
   "outputs": [
    {
     "data": {
      "text/plain": [
       "['BTC',\n",
       " 'BTC',\n",
       " 'BTC',\n",
       " 'BTC',\n",
       " 'BTC',\n",
       " 'BTC',\n",
       " 'BTC',\n",
       " 'BTC',\n",
       " 'BTC',\n",
       " 'BTC',\n",
       " 'BTC',\n",
       " 'BTC',\n",
       " 'BTC',\n",
       " 'BTC',\n",
       " 'BTC',\n",
       " 'BTC',\n",
       " 'BTC',\n",
       " 'BTC',\n",
       " 'BTC',\n",
       " 'BTC',\n",
       " 'BTC',\n",
       " 'BTC',\n",
       " 'BTC',\n",
       " 'BTC',\n",
       " 'BTC',\n",
       " 'BTC',\n",
       " 'BTC',\n",
       " 'BTC']"
      ]
     },
     "execution_count": 41,
     "metadata": {},
     "output_type": "execute_result"
    }
   ],
   "source": [
    "cur_f= [\"BTC\"]*len(rate)\n",
    "cur_f"
   ]
  },
  {
   "cell_type": "code",
   "execution_count": 42,
   "id": "9d841cbf",
   "metadata": {},
   "outputs": [
    {
     "data": {
      "text/plain": [
       "['RUB',\n",
       " 'RUB',\n",
       " 'RUB',\n",
       " 'RUB',\n",
       " 'RUB',\n",
       " 'RUB',\n",
       " 'RUB',\n",
       " 'RUB',\n",
       " 'RUB',\n",
       " 'RUB',\n",
       " 'RUB',\n",
       " 'RUB',\n",
       " 'RUB',\n",
       " 'RUB',\n",
       " 'RUB',\n",
       " 'RUB',\n",
       " 'RUB',\n",
       " 'RUB',\n",
       " 'RUB',\n",
       " 'RUB',\n",
       " 'RUB',\n",
       " 'RUB',\n",
       " 'RUB',\n",
       " 'RUB',\n",
       " 'RUB',\n",
       " 'RUB',\n",
       " 'RUB',\n",
       " 'RUB']"
      ]
     },
     "execution_count": 42,
     "metadata": {},
     "output_type": "execute_result"
    }
   ],
   "source": [
    "cur_s= [\"RUB\"]*len(rate)\n",
    "cur_s"
   ]
  },
  {
   "cell_type": "code",
   "execution_count": 43,
   "id": "81ae4edc",
   "metadata": {},
   "outputs": [
    {
     "data": {
      "text/plain": [
       "[('2023-02-01', 'BTC', 'RUB', 1658026.34),\n",
       " ('2023-02-02', 'BTC', 'RUB', 1760679.96),\n",
       " ('2023-02-03', 'BTC', 'RUB', 1656164.27),\n",
       " ('2023-02-04', 'BTC', 'RUB', 1648216.5),\n",
       " ('2023-02-05', 'BTC', 'RUB', 1620209.9),\n",
       " ('2023-02-06', 'BTC', 'RUB', 1626899.66),\n",
       " ('2023-02-07', 'BTC', 'RUB', 1677071.18),\n",
       " ('2023-02-08', 'BTC', 'RUB', 1680205.27),\n",
       " ('2023-02-09', 'BTC', 'RUB', 1591384.88),\n",
       " ('2023-02-10', 'BTC', 'RUB', 1597628.9),\n",
       " ('2023-02-11', 'BTC', 'RUB', 1598469.88),\n",
       " ('2023-02-12', 'BTC', 'RUB', 1593629.15),\n",
       " ('2023-02-13', 'BTC', 'RUB', 1614442.46),\n",
       " ('2023-02-14', 'BTC', 'RUB', 1634188.44),\n",
       " ('2023-02-15', 'BTC', 'RUB', 1799800.22),\n",
       " ('2023-02-16', 'BTC', 'RUB', 1761120.5),\n",
       " ('2023-02-17', 'BTC', 'RUB', 1818393.01),\n",
       " ('2023-02-18', 'BTC', 'RUB', 1823598.46),\n",
       " ('2023-02-19', 'BTC', 'RUB', 1796664.75),\n",
       " ('2023-02-20', 'BTC', 'RUB', 1875135.75),\n",
       " ('2023-02-21', 'BTC', 'RUB', 1824512.08),\n",
       " ('2023-02-22', 'BTC', 'RUB', 1811795.66),\n",
       " ('2023-02-23', 'BTC', 'RUB', 1804461.38),\n",
       " ('2023-02-24', 'BTC', 'RUB', 1762562.11),\n",
       " ('2023-02-25', 'BTC', 'RUB', 1762501.33),\n",
       " ('2023-02-26', 'BTC', 'RUB', 1791012.7),\n",
       " ('2023-02-27', 'BTC', 'RUB', 1753999.01),\n",
       " ('2023-02-28', 'BTC', 'RUB', 1735671.43)]"
      ]
     },
     "execution_count": 43,
     "metadata": {},
     "output_type": "execute_result"
    }
   ],
   "source": [
    "data=list(zip(rate_date, cur_f, cur_s, rate))\n",
    "data"
   ]
  },
  {
   "cell_type": "code",
   "execution_count": null,
   "id": "acf0274e",
   "metadata": {},
   "outputs": [],
   "source": []
  },
  {
   "cell_type": "code",
   "execution_count": null,
   "id": "2e490c22",
   "metadata": {},
   "outputs": [],
   "source": []
  },
  {
   "cell_type": "code",
   "execution_count": null,
   "id": "34790a69",
   "metadata": {},
   "outputs": [],
   "source": [
    "conn = psycopg2.connect(dbname=\"database\", user=\"somebody\", password=\"secret\", host=\"127.0.0.1\")\n",
    "cursor = conn.cursor()\n",
    " \n",
    "conn.autocommit = True\n",
    "sql = \"CREATE DATABASE btsrate\"\n",
    " \n",
    "cursor.execute(sql)\n",
    "print(\"База данных успешно создана\")\n",
    " \n",
    "cursor.close()\n",
    "conn.close()"
   ]
  },
  {
   "cell_type": "code",
   "execution_count": null,
   "id": "4eb9dd22",
   "metadata": {},
   "outputs": [],
   "source": [
    "conn = psycopg2.connect(dbname=\"btsrate\", user=\"somebody\", password=\"secret\",  host=\"127.0.0.1\")\n",
    "cursor = conn.cursor()\n",
    " \n",
    "cursor.execute(\"CREATE TABLE monthrate (id SERIAL PRIMARY KEY, currency_f VARCHAR(50), currency_s VARCHAR(50), rate real)\")\n",
    "conn.commit()\n",
    "\n",
    "print(\"Таблица успешно создана\")\n",
    " \n",
    "cursor.close()\n",
    "conn.close()"
   ]
  },
  {
   "cell_type": "code",
   "execution_count": null,
   "id": "bc740afc",
   "metadata": {},
   "outputs": [],
   "source": []
  },
  {
   "cell_type": "code",
   "execution_count": null,
   "id": "84316b7d",
   "metadata": {},
   "outputs": [],
   "source": []
  }
 ],
 "metadata": {
  "kernelspec": {
   "display_name": "Python 3 (ipykernel)",
   "language": "python",
   "name": "python3"
  },
  "language_info": {
   "codemirror_mode": {
    "name": "ipython",
    "version": 3
   },
   "file_extension": ".py",
   "mimetype": "text/x-python",
   "name": "python",
   "nbconvert_exporter": "python",
   "pygments_lexer": "ipython3",
   "version": "3.11.5"
  }
 },
 "nbformat": 4,
 "nbformat_minor": 5
}
